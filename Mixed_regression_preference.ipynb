{
 "cells": [
  {
   "cell_type": "code",
   "execution_count": 1,
   "metadata": {},
   "outputs": [],
   "source": [
    "from scipy.spatial.distance import cdist\n",
    "import commoncode as commoncode\n",
    "import numpy as np\n",
    "import matplotlib.pyplot as plt\n",
    "import SkewGP as SkewGP\n",
    "import GPy as GPy\n",
    "from matplotlib import pyplot as plt\n",
    "from scipy.stats import bernoulli\n",
    "from scipy.stats import norm\n",
    "import pymc3 as pm\n",
    "\n",
    "def generate_data(x,y,typed,iref,int_halfsize):\n",
    "    Y=[]\n",
    "    C=[]\n",
    "    Wp=[]\n",
    "    Zp=[]\n",
    "    Pref=[]\n",
    "    ni=len(iref)\n",
    "    for i in range(len(typed)):\n",
    "        if typed[i]=='numeric':\n",
    "            Y.append(y[i])\n",
    "            c=np.zeros(len(x))\n",
    "            c[i]=1.0\n",
    "            C.append(c)\n",
    "        elif typed[i]=='preference':\n",
    "            jref = np.random.choice(iref)\n",
    "            w=np.zeros(len(x))\n",
    "            if y[i]> y[jref]:\n",
    "                w[i]=1.0\n",
    "                w[jref]=-1.0\n",
    "                Pref.append([i,jref])\n",
    "            else:\n",
    "                w[i]=-1.0\n",
    "                w[jref]=1.0\n",
    "                Pref.append([jref,i])\n",
    "            Zp.append(np.array([0.0]))\n",
    "            Wp.append(w)\n",
    "    return np.vstack(Y),np.vstack(C),Zp,Wp,Pref\n",
    "\n",
    "def plot_data(x,y,Y,C,Zp,Wp,typed,figsize=(10,4),shifty=0.2):\n",
    "    plt.figure(figsize=figsize)\n",
    "    for i in range(Y.shape[0]):\n",
    "        plt.scatter(X[np.where(C[i,:]==1)[0]],Y[i],color='C0',Zorder=1000)\n",
    "   \n",
    "    Wp1=np.vstack(Wp)\n",
    "    for i in range(Wp1.shape[0]):\n",
    "        ii=np.where(Wp1[i,:]!=0)[0]\n",
    "        cc='goldenrod'\n",
    "        yref=shifty \n",
    "        if y[ii[0]]-y[ii[1]]>0:\n",
    "            yref=-shifty\n",
    "        plt.scatter(x[ii[1]],yref,color=cc,Zorder=1000)\n"
   ]
  },
  {
   "cell_type": "markdown",
   "metadata": {},
   "source": [
    "## We  generate some data"
   ]
  },
  {
   "cell_type": "code",
   "execution_count": 2,
   "metadata": {},
   "outputs": [
    {
     "ename": "NameError",
     "evalue": "name 'Zplist' is not defined",
     "output_type": "error",
     "traceback": [
      "\u001b[0;31m---------------------------------------------------------------------------\u001b[0m",
      "\u001b[0;31mNameError\u001b[0m                                 Traceback (most recent call last)",
      "\u001b[0;32m<ipython-input-2-31259a3c7319>\u001b[0m in \u001b[0;36m<module>\u001b[0;34m\u001b[0m\n\u001b[1;32m     17\u001b[0m \u001b[0mW\u001b[0m\u001b[0;34m=\u001b[0m\u001b[0mnp\u001b[0m\u001b[0;34m.\u001b[0m\u001b[0mvstack\u001b[0m\u001b[0;34m(\u001b[0m\u001b[0mW\u001b[0m\u001b[0;34m)\u001b[0m\u001b[0;34m\u001b[0m\u001b[0;34m\u001b[0m\u001b[0m\n\u001b[1;32m     18\u001b[0m \u001b[0mZ\u001b[0m\u001b[0;34m=\u001b[0m\u001b[0mnp\u001b[0m\u001b[0;34m.\u001b[0m\u001b[0mvstack\u001b[0m\u001b[0;34m(\u001b[0m\u001b[0mZ\u001b[0m\u001b[0;34m)\u001b[0m\u001b[0;34m\u001b[0m\u001b[0;34m\u001b[0m\u001b[0m\n\u001b[0;32m---> 19\u001b[0;31m \u001b[0mplot_data\u001b[0m\u001b[0;34m(\u001b[0m\u001b[0mx\u001b[0m\u001b[0;34m,\u001b[0m\u001b[0my\u001b[0m\u001b[0;34m,\u001b[0m\u001b[0mY\u001b[0m\u001b[0;34m,\u001b[0m\u001b[0mC\u001b[0m\u001b[0;34m,\u001b[0m\u001b[0mZplist\u001b[0m\u001b[0;34m,\u001b[0m\u001b[0mWplist\u001b[0m\u001b[0;34m,\u001b[0m\u001b[0mtyped\u001b[0m\u001b[0;34m,\u001b[0m\u001b[0mfigsize\u001b[0m\u001b[0;34m=\u001b[0m\u001b[0;34m(\u001b[0m\u001b[0;36m16\u001b[0m\u001b[0;34m,\u001b[0m\u001b[0;36m4\u001b[0m\u001b[0;34m)\u001b[0m\u001b[0;34m,\u001b[0m\u001b[0mshifty\u001b[0m\u001b[0;34m=\u001b[0m\u001b[0;36m1\u001b[0m\u001b[0;34m)\u001b[0m\u001b[0;31m#\u001b[0m\u001b[0;34m\u001b[0m\u001b[0;34m\u001b[0m\u001b[0m\n\u001b[0m\u001b[1;32m     20\u001b[0m \u001b[0mxx\u001b[0m\u001b[0;34m=\u001b[0m\u001b[0mnp\u001b[0m\u001b[0;34m.\u001b[0m\u001b[0mlinspace\u001b[0m\u001b[0;34m(\u001b[0m\u001b[0;36m0\u001b[0m\u001b[0;34m,\u001b[0m\u001b[0;36m5.1\u001b[0m\u001b[0;34m,\u001b[0m\u001b[0;36m100\u001b[0m\u001b[0;34m)\u001b[0m\u001b[0;34m\u001b[0m\u001b[0;34m\u001b[0m\u001b[0m\n\u001b[1;32m     21\u001b[0m \u001b[0mplt\u001b[0m\u001b[0;34m.\u001b[0m\u001b[0mplot\u001b[0m\u001b[0;34m(\u001b[0m\u001b[0mxx\u001b[0m\u001b[0;34m,\u001b[0m\u001b[0mfun\u001b[0m\u001b[0;34m(\u001b[0m\u001b[0mxx\u001b[0m\u001b[0;34m,\u001b[0m\u001b[0mnoise_std\u001b[0m\u001b[0;34m=\u001b[0m\u001b[0;36m0.0\u001b[0m\u001b[0;34m)\u001b[0m\u001b[0;34m,\u001b[0m\u001b[0mcolor\u001b[0m\u001b[0;34m=\u001b[0m\u001b[0;34m'b'\u001b[0m\u001b[0;34m,\u001b[0m\u001b[0mlinestyle\u001b[0m\u001b[0;34m=\u001b[0m\u001b[0;34m':'\u001b[0m\u001b[0;34m,\u001b[0m\u001b[0mzorder\u001b[0m\u001b[0;34m=\u001b[0m\u001b[0;36m0\u001b[0m\u001b[0;34m)\u001b[0m\u001b[0;34m\u001b[0m\u001b[0;34m\u001b[0m\u001b[0m\n",
      "\u001b[0;31mNameError\u001b[0m: name 'Zplist' is not defined"
     ]
    }
   ],
   "source": [
    "σ=0.1\n",
    "noise_variance=σ**2\n",
    "\n",
    "def fun(x,noise_std=0.1):\n",
    "    v=(4*np.sin(x/2*np.pi)-0.5*np.sin(2*x*np.pi))/6+np.random.randn(len(x))*noise_std\n",
    "    return v\n",
    "np.random.seed(42)\n",
    "x = np.linspace(0,5,60)\n",
    "n=len(x)\n",
    "\n",
    "y = fun(x,σ)\n",
    "typed =['numeric']*30+['preference']*30 \n",
    "typed=np.array(typed)\n",
    "iref=[23]\n",
    "Y,C,Z,W,Pref=generate_data(x,y,typed,iref,0.06)\n",
    "X=x.reshape(-1,1)\n",
    "W=np.vstack(W)\n",
    "Z=np.vstack(Z)\n",
    "plot_data(x,y,Y,C,Zplist,Wplist,typed,figsize=(16,4),shifty=1)#\n",
    "xx=np.linspace(0,5.1,100)\n",
    "plt.plot(xx,fun(xx,noise_std=0.0),color='b',linestyle=':',zorder=0)\n",
    "plt.scatter(x[iref],y[iref],color='red',zorder=1000)\n",
    "plt.xlim([0,5.1])\n",
    "plt.xlabel(\"x\",fontsize=16)\n",
    "plt.ylabel(\"y\",fontsize=16)\n",
    "plt.xticks(fontsize=14)\n",
    "plt.yticks(fontsize=14)\n",
    "plt.tight_layout()"
   ]
  },
  {
   "cell_type": "markdown",
   "metadata": {},
   "source": [
    "The dotted line represents the function we used to generate the observations. The  left (blue) points are numeric (non-noisy) observations and the right points represent preferences. We used the colored points (red and gold) to visualise the $30$ preferential observations. The meaning of these points is as follows: (i)  the value of the functions computed at the $x$s corresponding to the bottom gold  points is less than the value of the function computed at the $x$ corresponding to the red point; (ii) the value of the function computed at the $x$s corresponding to the the  top gold  points is greater than the value of the function computed at the $x$ corresponding to the red point. These $30$ qualitative judgments is the only information we have on the function for $x \\in [2.5,5]$. "
   ]
  },
  {
   "cell_type": "markdown",
   "metadata": {},
   "source": [
    "We define the Kernel and an empty skewness function for SkewGP. We are going to use  a zero dimension SkewGP, which is a GP prior and so we do not need Delta."
   ]
  },
  {
   "cell_type": "code",
   "execution_count": null,
   "metadata": {},
   "outputs": [],
   "source": [
    "def Kernel(X1,X2,params,diag_=False):\n",
    "        lengthscale=params['lengthscale']['value']\n",
    "        variance   =params['variance']['value']\n",
    "        if diag_==False:\n",
    "            diffs = cdist(np.atleast_2d(X1)/ lengthscale, np.atleast_2d(X2) / lengthscale, metric='sqeuclidean')\n",
    "        else:\n",
    "            diffs = np.sum((np.atleast_2d(X1)/ lengthscale-np.atleast_2d(X2)/ lengthscale)*(np.atleast_2d(X1)/ lengthscale-np.atleast_2d(X2)/ lengthscale),axis=1)\n",
    "        return variance * np.exp(-0.5 * diffs)\n",
    "    \n",
    "def Delta(X,params):\n",
    "    #empty\n",
    "    return []\n",
    "\n",
    "logexp=commoncode.logexp()\n",
    "latent_dim=0\n",
    "params0={'lengthscale': {'value':np.array([1.0]), \n",
    "                    'range':np.vstack([[0.00001, 50.0]]),\n",
    "                    'transform': logexp},\n",
    "         'variance': {'value':np.array([1.0]), \n",
    "                    'range':np.vstack([[0.001, 100.0]]),\n",
    "                    'transform': logexp},\n",
    "         'noise_variance': {'value':np.array([noise_variance]), \n",
    "                    'range':np.vstack([[0.000001, 50.001]]),\n",
    "                    'transform': logexp}\n",
    "      }\n",
    "\n",
    "model = SkewGP.SkewGP(X,Kernel, Delta, params0, W=W, C=C, Y=Y, Z=Z,  latent_dim =0, type_y='mixed', jitter=1e-4)\n",
    "#we optimize the hyperparameters\n",
    "ml=model.optimize(max_iters=1000) \n",
    "print(\"Marginal Likelihood\",ml)"
   ]
  },
  {
   "cell_type": "code",
   "execution_count": null,
   "metadata": {},
   "outputs": [],
   "source": [
    "model.params\n"
   ]
  },
  {
   "cell_type": "code",
   "execution_count": null,
   "metadata": {},
   "outputs": [],
   "source": [
    "Xpred=np.linspace(0,5.5,200)[:,None]\n",
    "print(Xpred.shape)\n",
    "predictions=model.predict(Xpred,nsamples=10000);"
   ]
  },
  {
   "cell_type": "code",
   "execution_count": null,
   "metadata": {},
   "outputs": [],
   "source": [
    "plt.figure(figsize=(16,4))\n",
    "plot_data(x,y,Y,C,Zplist,Wplist,typed,figsize=(16,4),shifty=1)\n",
    "plt.scatter(x[iref],y[iref],color='red',zorder=1000)\n",
    "plt.plot(xx,fun(xx,noise_std=0.0),color='b',linestyle=':',zorder=0)\n",
    "\n",
    "\n",
    "#we compute the credible intervals\n",
    "credib_int = pm.stats.hpd(predictions.T)\n",
    "#we plot the latent function mean and credible interval\n",
    "plt.plot(Xpred[:,0],credib_int[:,1],color='C2', linestyle=':')\n",
    "plt.plot(Xpred[:,0],credib_int[:,0],color='C2', linestyle=':')\n",
    "plt.plot(Xpred[:,0],np.mean(predictions,axis=1), label='mean',color='C2')\n",
    "plt.xlabel(\"x\",fontsize=16)\n",
    "plt.ylabel(\"f(x)\",fontsize=16);"
   ]
  },
  {
   "cell_type": "code",
   "execution_count": null,
   "metadata": {},
   "outputs": [],
   "source": []
  }
 ],
 "metadata": {
  "kernelspec": {
   "display_name": "Python 3",
   "language": "python",
   "name": "python3"
  },
  "language_info": {
   "codemirror_mode": {
    "name": "ipython",
    "version": 3
   },
   "file_extension": ".py",
   "mimetype": "text/x-python",
   "name": "python",
   "nbconvert_exporter": "python",
   "pygments_lexer": "ipython3",
   "version": "3.8.5"
  }
 },
 "nbformat": 4,
 "nbformat_minor": 4
}
